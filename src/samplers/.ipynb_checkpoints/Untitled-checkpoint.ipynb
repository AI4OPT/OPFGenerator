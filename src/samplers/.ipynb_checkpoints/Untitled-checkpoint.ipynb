{
 "cells": [
  {
   "cell_type": "markdown",
   "id": "e11ad7a7-968e-40d9-b6da-98333aa8088a",
   "metadata": {},
   "source": [
    "# Load Scaling 101"
   ]
  },
  {
   "cell_type": "markdown",
   "id": "c8e1886a-8f30-46b3-8318-f63b2da55e81",
   "metadata": {},
   "source": [
    "Outline:\n",
    "- introduce motivation:\n",
    "    * augmentation of data for greater sample size for training\n",
    "    * today's goal is to learn how I'm generating data \n",
    "        >labeling system, storage location, and how to retrieve will come later\n",
    "        >mention\n",
    "- what does augmentation look like?\n",
    "    * 3 bus example with simpleLoadScaling (walk through, half whiteboard-half notebook)\n",
    "        >General flow\n",
    "            nb: load example dataset / wb: draw dataset\n",
    "            nb: pull up loads / wb: label loads\n",
    "            introduce simpleLoadScaling \n",
    "                >wb: draw out mathematical formulation of the two uniform distributions\n",
    "                    U1 ~ (l,u), U2 ~(l_scl,u_scl)\n",
    "                    simpleLoadScaling follows U1 x U2\n",
    "                >nb: explain logic of load_sampler and opf_sampler\n",
    "                >nb: show what differnt values of l_scl,u_scl may do\n",
    "            "
   ]
  },
  {
   "cell_type": "markdown",
   "id": "967fda0b-4682-4a92-907e-cd94b71265b5",
   "metadata": {},
   "source": [
    "This notebook will walk through two methods of load augmentation to PGLib instances, with both methods focusing on applying  random noise to the initial active and reactive power values BEFORE being solved. This methodology will make it possible to generate large amounts of trainable data from current, publicly available PGLib datasets.\n",
    "\n",
    "#### Call packages"
   ]
  },
  {
   "cell_type": "code",
   "execution_count": 1,
   "id": "9ce14f80-04eb-4406-adf1-214bc59d81cd",
   "metadata": {},
   "outputs": [
    {
     "name": "stdout",
     "output_type": "stream",
     "text": [
      "\u001b[32m[info | PowerModels]: Suppressing information and warning messages for the rest of this session.  Use the Memento package for more fine-grained control of logging.\u001b[39m\n"
     ]
    }
   ],
   "source": [
    "using Pkg; \n",
    "using PowerModels, PGLib, Random, StableRNGs, Random, ACOPFGenerator, PrettyPrint;\n",
    "PowerModels.silence() # for more quiet outputs"
   ]
  },
  {
   "cell_type": "markdown",
   "id": "acacba4d-f3fa-45a8-a9ee-30aa991a02fa",
   "metadata": {},
   "source": [
    "First, we will load an example PGLib instance to work with:"
   ]
  },
  {
   "cell_type": "code",
   "execution_count": 2,
   "id": "ee90a065-2045-4d4f-bc4e-25ed7dbe8087",
   "metadata": {},
   "outputs": [
    {
     "name": "stderr",
     "output_type": "stream",
     "text": [
      "┌ Info: opening case `pglib_opf_case5_pjm.m`\n",
      "└ @ PGLib /home/hwallace30/.julia/packages/PGLib/Q7Xqy/src/PGLib.jl:54\n"
     ]
    }
   ],
   "source": [
    "data = make_basic_network(pglib(\"5_pjm\"));"
   ]
  },
  {
   "cell_type": "markdown",
   "id": "9b64f019-3160-4ad4-bce7-8a6546764caf",
   "metadata": {},
   "source": [
    "Now, gather some context on this instance before adding any perturbation."
   ]
  },
  {
   "cell_type": "code",
   "execution_count": 3,
   "id": "66a65d0c-8889-4ec7-ac77-70a866102b70",
   "metadata": {},
   "outputs": [
    {
     "data": {
      "text/plain": [
       "Dict{String, Any} with 3 entries:\n",
       "  \"1\" => Dict{String, Any}(\"source_id\"=>Any[\"bus\", 2], \"load_bus\"=>2, \"status\"=…\n",
       "  \"2\" => Dict{String, Any}(\"source_id\"=>Any[\"bus\", 3], \"load_bus\"=>3, \"status\"=…\n",
       "  \"3\" => Dict{String, Any}(\"source_id\"=>Any[\"bus\", 4], \"load_bus\"=>4, \"status\"=…"
      ]
     },
     "execution_count": 3,
     "metadata": {},
     "output_type": "execute_result"
    }
   ],
   "source": [
    "data[\"load\"]"
   ]
  },
  {
   "cell_type": "code",
   "execution_count": 4,
   "id": "42870269-f017-4308-b26a-799115d16800",
   "metadata": {},
   "outputs": [
    {
     "name": "stdout",
     "output_type": "stream",
     "text": [
      "active power 1 is 3.0 // reactive power 1 is 0.9861\n",
      "active power 2 is 3.0 // reactive power 2 is 0.9861\n",
      "active power 3 is 4.0 // reactive power 3 is 1.3147\n"
     ]
    }
   ],
   "source": [
    "for i in 1:3\n",
    "    print(\"active power $i is \", data[\"load\"][\"$i\"][\"pd\"], \" \") \n",
    "    println(\"// reactive power $i is \", data[\"load\"][\"$i\"][\"qd\"]) \n",
    "end "
   ]
  },
  {
   "cell_type": "markdown",
   "id": "e2a85285-9090-4962-aa2d-69a0d6f1c691",
   "metadata": {},
   "source": [
    "##### Now, let's define below a general methodology in how we add noise to our data."
   ]
  },
  {
   "cell_type": "markdown",
   "id": "663b54b5-30c0-4570-b041-ca6de1ff8d90",
   "metadata": {},
   "source": [
    "$$ \\text{If L = number of loads,} $$\n",
    "$$ \\vec{\\alpha} \\in \\mathbb{R}^{L} $$\n",
    "$$ \\text{stores a random scale factor for} $$\n",
    "$$ \\text{each unperturbed load} \\ \\bar{p_{i}} \\text{ in } \\ \\bar{p_{i}} \\text{...} \\bar{p_{L}} $$\n",
    "$$ \\text{from which new load values } p_{i} \\text{... } p_{L} \\text { are selected.}$$\n",
    "<!-- $$ \\text{In the first method, \n",
    "$$ d_{i} ~ U( $$\n",
    "$$ $$\n",
    "$$ Uniform(3, 4) $$ -->"
   ]
  },
  {
   "cell_type": "markdown",
   "id": "3bb96e5e-df9f-499a-b205-b516c17ebbe8",
   "metadata": {},
   "source": [
    "##### How to generate the scale factor values? It must be random. \n",
    "\n",
    "#### One way to implement this is to sample L scale values from a Uniform distribution, which will require two parameters: an upper and a lower bound. "
   ]
  },
  {
   "cell_type": "code",
   "execution_count": 5,
   "id": "867e0a36-f72d-4093-91ac-dcd23107b3b5",
   "metadata": {},
   "outputs": [],
   "source": [
    "l, u = 0.9, 1.2;"
   ]
  },
  {
   "cell_type": "markdown",
   "id": "56ab48b2-62d6-481f-98fc-6d902294e539",
   "metadata": {},
   "source": [
    "With these values, each new data point will be generated as described below:\n",
    "\n",
    "$$ \\vec{\\alpha}_{i} \\sim \\ U( l , u ) $$\n",
    "$$ \\text{and} $$\n",
    "$$ p_{i} \\sim \\vec{\\alpha}_{i}*\\bar{p_{i}} $$\n",
    "\n",
    "$$ \\text{more succinctly:} $$\n",
    "$$ p_{i} \\sim \\ U( l\\bar{p_{i}} , u\\bar{p_{i}})$$"
   ]
  },
  {
   "cell_type": "markdown",
   "id": "609dfe21-e529-47f3-9499-6c0c97c22d5b",
   "metadata": {},
   "source": [
    "This can be generated like so: "
   ]
  },
  {
   "cell_type": "code",
   "execution_count": 6,
   "id": "dce42e02-3062-484f-981c-5c675aeb6b16",
   "metadata": {},
   "outputs": [
    {
     "data": {
      "text/plain": [
       "SimpleLoadScaling([0.9 0.9 0.9; 1.2 1.2 1.2], [3.0, 3.0, 4.0], [0.9861, 0.9861, 1.3147])"
      ]
     },
     "execution_count": 6,
     "metadata": {},
     "output_type": "execute_result"
    }
   ],
   "source": [
    "load_sampler = SimpleLoadScaling(data, l, u)"
   ]
  },
  {
   "cell_type": "markdown",
   "id": "19a49802-97c2-4827-99a4-af5dd6a85b74",
   "metadata": {},
   "source": [
    "This creates an instance of a SimpleLoadScaling struct, storing the load and scaling data."
   ]
  },
  {
   "cell_type": "code",
   "execution_count": 7,
   "id": "6feebdd3-fcf4-47ab-8d98-1caf32515bcc",
   "metadata": {},
   "outputs": [],
   "source": [
    "opf_sampler = SimpleOPFSampler(data, load_sampler);"
   ]
  },
  {
   "cell_type": "markdown",
   "id": "43f9f19f-b032-4d01-bdf2-2eb8971dd0f2",
   "metadata": {},
   "source": [
    "With the SimpleOPFSampler, we can now randomly sample data:"
   ]
  },
  {
   "cell_type": "code",
   "execution_count": 8,
   "id": "b986e924-796e-4f8c-84a8-0397ba30ea3a",
   "metadata": {},
   "outputs": [
    {
     "ename": "LoadError",
     "evalue": "UndefVarError: d_pd not defined",
     "output_type": "error",
     "traceback": [
      "UndefVarError: d_pd not defined",
      "",
      "Stacktrace:",
      " [1] _sample_loads(rng::StableRNGs.LehmerRNG, ls::SimpleLoadScaling)",
      "   @ ACOPFGenerator ~/ACOPFGenerator/src/samplers/load_scaling.jl:83",
      " [2] sample(rng::StableRNGs.LehmerRNG, opf_sampler::SimpleOPFSampler)",
      "   @ ACOPFGenerator ~/ACOPFGenerator/src/ACOPFGenerator.jl:33",
      " [3] top-level scope",
      "   @ In[8]:2",
      " [4] eval",
      "   @ ./boot.jl:368 [inlined]",
      " [5] include_string(mapexpr::typeof(REPL.softscope), mod::Module, code::String, filename::String)",
      "   @ Base ./loading.jl:1428"
     ]
    }
   ],
   "source": [
    "rng = StableRNG(1)\n",
    "new_data, d_pd, d_qd = ACOPFGenerator.sample(rng, opf_sampler);"
   ]
  },
  {
   "cell_type": "code",
   "execution_count": null,
   "id": "e0d6ea44-6a70-4712-9ff9-8bab0eef6750",
   "metadata": {},
   "outputs": [],
   "source": []
  }
 ],
 "metadata": {
  "kernelspec": {
   "display_name": "Julia 1.8.1",
   "language": "julia",
   "name": "julia-1.8"
  },
  "language_info": {
   "file_extension": ".jl",
   "mimetype": "application/julia",
   "name": "julia",
   "version": "1.8.1"
  }
 },
 "nbformat": 4,
 "nbformat_minor": 5
}
