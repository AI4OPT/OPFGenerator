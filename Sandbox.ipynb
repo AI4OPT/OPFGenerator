{
 "cells": [
  {
   "cell_type": "code",
   "execution_count": 1,
   "id": "aa1cb332-12eb-40fa-bc70-86c107b53ba2",
   "metadata": {},
   "outputs": [],
   "source": [
    "using Pkg;"
   ]
  },
  {
   "cell_type": "code",
   "execution_count": 2,
   "id": "6b479c5a-1aad-4f1c-a37a-0d4ffef2c55c",
   "metadata": {},
   "outputs": [
    {
     "name": "stderr",
     "output_type": "stream",
     "text": [
      "\u001b[32m\u001b[1m  Activating\u001b[22m\u001b[39m project at `~/ACOPFGenerator`\n"
     ]
    }
   ],
   "source": [
    "Pkg.activate(\".\")"
   ]
  },
  {
   "cell_type": "code",
   "execution_count": 3,
   "id": "30a713fc-2955-461f-bd69-44c487c1b6ba",
   "metadata": {},
   "outputs": [],
   "source": [
    "Pkg.instantiate()"
   ]
  },
  {
   "cell_type": "code",
   "execution_count": 4,
   "id": "cbbb2f12-d63e-456c-807f-843eb1f9b9b5",
   "metadata": {},
   "outputs": [
    {
     "name": "stderr",
     "output_type": "stream",
     "text": [
      "┌ Info: Precompiling ACOPFGenerator [5d2523b5-5e96-4b1c-8178-da2b93e9175f]\n",
      "└ @ Base loading.jl:1662\n"
     ]
    },
    {
     "name": "stdout",
     "output_type": "stream",
     "text": [
      "\u001b[32m[info | PowerModels]: Suppressing information and warning messages for the rest of this session.  Use the Memento package for more fine-grained control of logging.\u001b[39m\n"
     ]
    }
   ],
   "source": [
    "using Random, PGLib, PowerModels\n",
    "using ACOPFGenerator\n",
    "PowerModels.silence()"
   ]
  },
  {
   "cell_type": "code",
   "execution_count": 5,
   "id": "df7c11ed-376c-406f-a8ad-39eae4564963",
   "metadata": {},
   "outputs": [
    {
     "data": {
      "text/plain": [
       "StableRNGs.LehmerRNG(state=0x00000000000000000000000000000055)"
      ]
     },
     "execution_count": 5,
     "metadata": {},
     "output_type": "execute_result"
    }
   ],
   "source": [
    "using StableRNGs\n",
    "rng = StableRNG(42)"
   ]
  },
  {
   "cell_type": "code",
   "execution_count": 6,
   "id": "660342c4-fcbc-46f9-9d63-005722ddccea",
   "metadata": {},
   "outputs": [
    {
     "name": "stderr",
     "output_type": "stream",
     "text": [
      "┌ Info: opening case `pglib_opf_case5_pjm.m`\n",
      "└ @ PGLib /home/hwallace30/.julia/packages/PGLib/Q7Xqy/src/PGLib.jl:54\n"
     ]
    }
   ],
   "source": [
    "data = make_basic_network(pglib(\"5_pjm\"));"
   ]
  },
  {
   "cell_type": "code",
   "execution_count": 7,
   "id": "11693cba-1a05-4c6f-b1ea-6c6f93c97b7c",
   "metadata": {},
   "outputs": [],
   "source": [
    "load_sampler = SimpleLoadScaling(data, 0.8, 1.2);"
   ]
  },
  {
   "cell_type": "code",
   "execution_count": 8,
   "id": "f146d8c4-f79d-4ca1-9105-0952cd650e22",
   "metadata": {},
   "outputs": [],
   "source": [
    "a = [0.01, 0.02, 0.03, 0.04, 0.05];"
   ]
  },
  {
   "cell_type": "code",
   "execution_count": 14,
   "id": "1ea59653-0f24-47de-b313-3905bc8ea16a",
   "metadata": {},
   "outputs": [
    {
     "name": "stdout",
     "output_type": "stream",
     "text": [
      "15"
     ]
    },
    {
     "ename": "LoadError",
     "evalue": "'a' must be the same size as pd and qd",
     "output_type": "error",
     "traceback": [
      "'a' must be the same size as pd and qd",
      "",
      "Stacktrace:",
      " [1] error(s::String)",
      "   @ Base ./error.jl:35",
      " [2] SimpleLoadScaling(pd::Vector{Float64}, qd::Vector{Float64}, a::Vector{Float64})",
      "   @ ACOPFGenerator ~/ACOPFGenerator/src/samplers/load_scaling.jl:40",
      " [3] SimpleLoadScaling(data::Dict{String, Any}, a::Vector{Float64})",
      "   @ ACOPFGenerator ~/ACOPFGenerator/src/samplers/load_scaling.jl:68",
      " [4] top-level scope",
      "   @ In[14]:1",
      " [5] eval",
      "   @ ./boot.jl:368 [inlined]",
      " [6] include_string(mapexpr::typeof(REPL.softscope), mod::Module, code::String, filename::String)",
      "   @ Base ./loading.jl:1428"
     ]
    }
   ],
   "source": [
    "load_sampler2 = SimpleLoadScaling(data, a)"
   ]
  },
  {
   "cell_type": "code",
   "execution_count": 10,
   "id": "236cc411-841c-4344-a9da-593a985c6943",
   "metadata": {},
   "outputs": [],
   "source": [
    "opf_sampler  = SimpleOPFSampler(data, load_sampler);"
   ]
  },
  {
   "cell_type": "code",
   "execution_count": 11,
   "id": "c72e5618-a2f9-42fe-a587-a27b415c99fb",
   "metadata": {},
   "outputs": [],
   "source": [
    "new_data = ACOPFGenerator.sample(rng, opf_sampler);"
   ]
  },
  {
   "cell_type": "code",
   "execution_count": 12,
   "id": "087dbbd1-7e62-4b6b-8455-9617b5ab90fd",
   "metadata": {},
   "outputs": [
    {
     "name": "stdout",
     "output_type": "stream",
     "text": [
      "3.0\n",
      "3.0\n",
      "4.0\n"
     ]
    }
   ],
   "source": [
    "for i in 1:3\n",
    "    println(data[\"load\"][\"$i\"][\"pd\"])\n",
    "end"
   ]
  },
  {
   "cell_type": "code",
   "execution_count": 13,
   "id": "d7aa5f40-49f9-47e5-9d3d-dce88a03faca",
   "metadata": {},
   "outputs": [
    {
     "name": "stdout",
     "output_type": "stream",
     "text": [
      "3.0966178352222347\n",
      "2.62948977534982\n",
      "4.7538135491303235\n"
     ]
    }
   ],
   "source": [
    "for i in 1:3\n",
    "    println(new_data[\"load\"][\"$i\"][\"pd\"])\n",
    "end"
   ]
  },
  {
   "cell_type": "code",
   "execution_count": null,
   "id": "077af64b-88d9-464d-8fc6-b97b64900b89",
   "metadata": {},
   "outputs": [],
   "source": []
  }
 ],
 "metadata": {
  "kernelspec": {
   "display_name": "Julia 1.8.1",
   "language": "julia",
   "name": "julia-1.8"
  },
  "language_info": {
   "file_extension": ".jl",
   "mimetype": "application/julia",
   "name": "julia",
   "version": "1.8.1"
  }
 },
 "nbformat": 4,
 "nbformat_minor": 5
}
